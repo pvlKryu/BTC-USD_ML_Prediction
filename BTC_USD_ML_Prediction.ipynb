{
  "nbformat": 4,
  "nbformat_minor": 0,
  "metadata": {
    "colab": {
      "name": "BTC/USD_ML_Prediction.ipynb",
      "provenance": [],
      "collapsed_sections": [],
      "authorship_tag": "ABX9TyOfqT/b1BCzZE5qVu9nA0JP",
      "include_colab_link": true
    },
    "kernelspec": {
      "name": "python3",
      "display_name": "Python 3"
    },
    "language_info": {
      "name": "python"
    }
  },
  "cells": [
    {
      "cell_type": "markdown",
      "metadata": {
        "id": "view-in-github",
        "colab_type": "text"
      },
      "source": [
        "<a href=\"https://colab.research.google.com/github/pvlKryu/BTC-USD_ML_Prediction/blob/main/BTC_USD_ML_Prediction.ipynb\" target=\"_parent\"><img src=\"https://colab.research.google.com/assets/colab-badge.svg\" alt=\"Open In Colab\"/></a>"
      ]
    },
    {
      "cell_type": "code",
      "execution_count": null,
      "metadata": {
        "id": "yjbZe-y8XlaU"
      },
      "outputs": [],
      "source": [
        "import pandas as pd\n",
        "import matplotlib.pyplot as plt\n"
      ]
    },
    {
      "cell_type": "code",
      "source": [
        "# Open input data file\n",
        "bitcoin = pd.read_csv(\"/content/BTCUSD_daily.csv\", index_col = 0)"
      ],
      "metadata": {
        "id": "xOApucetYVNN"
      },
      "execution_count": null,
      "outputs": []
    },
    {
      "cell_type": "code",
      "source": [
        "bitcoin.describe()"
      ],
      "metadata": {
        "id": "bU67i4kdYoFx",
        "colab": {
          "base_uri": "https://localhost:8080/",
          "height": 364
        },
        "outputId": "40219352-9d80-47d0-945c-6139f4bc0466"
      },
      "execution_count": null,
      "outputs": [
        {
          "output_type": "execute_result",
          "data": {
            "text/plain": [
              "               open          high           low         close    Volume USD  \\\n",
              "count   2652.000000   2652.000000   2652.000000   2652.000000  2.652000e+03   \n",
              "mean   12817.097939  13186.267542  12399.817371  12828.207655  1.497664e+08   \n",
              "std    16824.413997  17289.418026  16283.433540  16826.150324  2.171489e+08   \n",
              "min      212.630000    223.200000    162.000000    212.630000  0.000000e+00   \n",
              "25%      756.692500    773.582500    743.492500    766.082500  1.362017e+07   \n",
              "50%     6753.050000   6939.300000   6602.450000   6756.100000  6.404094e+07   \n",
              "75%    11473.000000  11791.500000  11124.500000  11478.250000  2.004097e+08   \n",
              "max    67526.000000  68958.000000  66326.000000  67526.000000  2.491339e+09   \n",
              "\n",
              "          Volume BTC  \n",
              "count    2652.000000  \n",
              "mean    18381.609947  \n",
              "std     20526.790610  \n",
              "min         0.000000  \n",
              "25%      5678.644934  \n",
              "50%     10971.855000  \n",
              "75%     23124.732500  \n",
              "max    266768.610000  "
            ],
            "text/html": [
              "\n",
              "  <div id=\"df-20008f80-9302-4023-bc25-2b2fa97c2373\">\n",
              "    <div class=\"colab-df-container\">\n",
              "      <div>\n",
              "<style scoped>\n",
              "    .dataframe tbody tr th:only-of-type {\n",
              "        vertical-align: middle;\n",
              "    }\n",
              "\n",
              "    .dataframe tbody tr th {\n",
              "        vertical-align: top;\n",
              "    }\n",
              "\n",
              "    .dataframe thead th {\n",
              "        text-align: right;\n",
              "    }\n",
              "</style>\n",
              "<table border=\"1\" class=\"dataframe\">\n",
              "  <thead>\n",
              "    <tr style=\"text-align: right;\">\n",
              "      <th></th>\n",
              "      <th>open</th>\n",
              "      <th>high</th>\n",
              "      <th>low</th>\n",
              "      <th>close</th>\n",
              "      <th>Volume USD</th>\n",
              "      <th>Volume BTC</th>\n",
              "    </tr>\n",
              "  </thead>\n",
              "  <tbody>\n",
              "    <tr>\n",
              "      <th>count</th>\n",
              "      <td>2652.000000</td>\n",
              "      <td>2652.000000</td>\n",
              "      <td>2652.000000</td>\n",
              "      <td>2652.000000</td>\n",
              "      <td>2.652000e+03</td>\n",
              "      <td>2652.000000</td>\n",
              "    </tr>\n",
              "    <tr>\n",
              "      <th>mean</th>\n",
              "      <td>12817.097939</td>\n",
              "      <td>13186.267542</td>\n",
              "      <td>12399.817371</td>\n",
              "      <td>12828.207655</td>\n",
              "      <td>1.497664e+08</td>\n",
              "      <td>18381.609947</td>\n",
              "    </tr>\n",
              "    <tr>\n",
              "      <th>std</th>\n",
              "      <td>16824.413997</td>\n",
              "      <td>17289.418026</td>\n",
              "      <td>16283.433540</td>\n",
              "      <td>16826.150324</td>\n",
              "      <td>2.171489e+08</td>\n",
              "      <td>20526.790610</td>\n",
              "    </tr>\n",
              "    <tr>\n",
              "      <th>min</th>\n",
              "      <td>212.630000</td>\n",
              "      <td>223.200000</td>\n",
              "      <td>162.000000</td>\n",
              "      <td>212.630000</td>\n",
              "      <td>0.000000e+00</td>\n",
              "      <td>0.000000</td>\n",
              "    </tr>\n",
              "    <tr>\n",
              "      <th>25%</th>\n",
              "      <td>756.692500</td>\n",
              "      <td>773.582500</td>\n",
              "      <td>743.492500</td>\n",
              "      <td>766.082500</td>\n",
              "      <td>1.362017e+07</td>\n",
              "      <td>5678.644934</td>\n",
              "    </tr>\n",
              "    <tr>\n",
              "      <th>50%</th>\n",
              "      <td>6753.050000</td>\n",
              "      <td>6939.300000</td>\n",
              "      <td>6602.450000</td>\n",
              "      <td>6756.100000</td>\n",
              "      <td>6.404094e+07</td>\n",
              "      <td>10971.855000</td>\n",
              "    </tr>\n",
              "    <tr>\n",
              "      <th>75%</th>\n",
              "      <td>11473.000000</td>\n",
              "      <td>11791.500000</td>\n",
              "      <td>11124.500000</td>\n",
              "      <td>11478.250000</td>\n",
              "      <td>2.004097e+08</td>\n",
              "      <td>23124.732500</td>\n",
              "    </tr>\n",
              "    <tr>\n",
              "      <th>max</th>\n",
              "      <td>67526.000000</td>\n",
              "      <td>68958.000000</td>\n",
              "      <td>66326.000000</td>\n",
              "      <td>67526.000000</td>\n",
              "      <td>2.491339e+09</td>\n",
              "      <td>266768.610000</td>\n",
              "    </tr>\n",
              "  </tbody>\n",
              "</table>\n",
              "</div>\n",
              "      <button class=\"colab-df-convert\" onclick=\"convertToInteractive('df-20008f80-9302-4023-bc25-2b2fa97c2373')\"\n",
              "              title=\"Convert this dataframe to an interactive table.\"\n",
              "              style=\"display:none;\">\n",
              "        \n",
              "  <svg xmlns=\"http://www.w3.org/2000/svg\" height=\"24px\"viewBox=\"0 0 24 24\"\n",
              "       width=\"24px\">\n",
              "    <path d=\"M0 0h24v24H0V0z\" fill=\"none\"/>\n",
              "    <path d=\"M18.56 5.44l.94 2.06.94-2.06 2.06-.94-2.06-.94-.94-2.06-.94 2.06-2.06.94zm-11 1L8.5 8.5l.94-2.06 2.06-.94-2.06-.94L8.5 2.5l-.94 2.06-2.06.94zm10 10l.94 2.06.94-2.06 2.06-.94-2.06-.94-.94-2.06-.94 2.06-2.06.94z\"/><path d=\"M17.41 7.96l-1.37-1.37c-.4-.4-.92-.59-1.43-.59-.52 0-1.04.2-1.43.59L10.3 9.45l-7.72 7.72c-.78.78-.78 2.05 0 2.83L4 21.41c.39.39.9.59 1.41.59.51 0 1.02-.2 1.41-.59l7.78-7.78 2.81-2.81c.8-.78.8-2.07 0-2.86zM5.41 20L4 18.59l7.72-7.72 1.47 1.35L5.41 20z\"/>\n",
              "  </svg>\n",
              "      </button>\n",
              "      \n",
              "  <style>\n",
              "    .colab-df-container {\n",
              "      display:flex;\n",
              "      flex-wrap:wrap;\n",
              "      gap: 12px;\n",
              "    }\n",
              "\n",
              "    .colab-df-convert {\n",
              "      background-color: #E8F0FE;\n",
              "      border: none;\n",
              "      border-radius: 50%;\n",
              "      cursor: pointer;\n",
              "      display: none;\n",
              "      fill: #1967D2;\n",
              "      height: 32px;\n",
              "      padding: 0 0 0 0;\n",
              "      width: 32px;\n",
              "    }\n",
              "\n",
              "    .colab-df-convert:hover {\n",
              "      background-color: #E2EBFA;\n",
              "      box-shadow: 0px 1px 2px rgba(60, 64, 67, 0.3), 0px 1px 3px 1px rgba(60, 64, 67, 0.15);\n",
              "      fill: #174EA6;\n",
              "    }\n",
              "\n",
              "    [theme=dark] .colab-df-convert {\n",
              "      background-color: #3B4455;\n",
              "      fill: #D2E3FC;\n",
              "    }\n",
              "\n",
              "    [theme=dark] .colab-df-convert:hover {\n",
              "      background-color: #434B5C;\n",
              "      box-shadow: 0px 1px 3px 1px rgba(0, 0, 0, 0.15);\n",
              "      filter: drop-shadow(0px 1px 2px rgba(0, 0, 0, 0.3));\n",
              "      fill: #FFFFFF;\n",
              "    }\n",
              "  </style>\n",
              "\n",
              "      <script>\n",
              "        const buttonEl =\n",
              "          document.querySelector('#df-20008f80-9302-4023-bc25-2b2fa97c2373 button.colab-df-convert');\n",
              "        buttonEl.style.display =\n",
              "          google.colab.kernel.accessAllowed ? 'block' : 'none';\n",
              "\n",
              "        async function convertToInteractive(key) {\n",
              "          const element = document.querySelector('#df-20008f80-9302-4023-bc25-2b2fa97c2373');\n",
              "          const dataTable =\n",
              "            await google.colab.kernel.invokeFunction('convertToInteractive',\n",
              "                                                     [key], {});\n",
              "          if (!dataTable) return;\n",
              "\n",
              "          const docLinkHtml = 'Like what you see? Visit the ' +\n",
              "            '<a target=\"_blank\" href=https://colab.research.google.com/notebooks/data_table.ipynb>data table notebook</a>'\n",
              "            + ' to learn more about interactive tables.';\n",
              "          element.innerHTML = '';\n",
              "          dataTable['output_type'] = 'display_data';\n",
              "          await google.colab.output.renderOutput(dataTable, element);\n",
              "          const docLink = document.createElement('div');\n",
              "          docLink.innerHTML = docLinkHtml;\n",
              "          element.appendChild(docLink);\n",
              "        }\n",
              "      </script>\n",
              "    </div>\n",
              "  </div>\n",
              "  "
            ]
          },
          "metadata": {},
          "execution_count": 27
        }
      ]
    },
    {
      "cell_type": "code",
      "source": [
        "# Convert to datetime\n",
        "bitcoin.date = pd.to_datetime(bitcoin.date)"
      ],
      "metadata": {
        "id": "V1j3IWNzZxdj"
      },
      "execution_count": null,
      "outputs": []
    },
    {
      "cell_type": "code",
      "source": [
        "# Making a open price/year plot\n",
        "plt.plot(bitcoin.date, bitcoin.open, label = \"Open (USD)\" )\n",
        "plt.legend()\n",
        "plt.show"
      ],
      "metadata": {
        "colab": {
          "base_uri": "https://localhost:8080/",
          "height": 284
        },
        "id": "Njbyhk-AZB5l",
        "outputId": "4a5ad904-f43f-46e3-e400-56afff4e9934"
      },
      "execution_count": null,
      "outputs": [
        {
          "output_type": "execute_result",
          "data": {
            "text/plain": [
              "<function matplotlib.pyplot.show>"
            ]
          },
          "metadata": {},
          "execution_count": 29
        },
        {
          "output_type": "display_data",
          "data": {
            "text/plain": [
              "<Figure size 432x288 with 1 Axes>"
            ],
            "image/png": "[encoded data removed]"
          },
          "metadata": {
            "needs_background": "light"
          }
        }
      ]
    },
    {
      "cell_type": "code",
      "source": [
        "# Let's make some simple Feature Engineering\n",
        "\n",
        "bitcoin[\"openclose\"] = bitcoin.open - bitcoin.close \n",
        "bitcoin[\"highlow\"] = bitcoin.high - bitcoin.low  \n",
        "bitcoin[\"open_high\"] = bitcoin[\"openclose\"] / bitcoin[\"highlow\"]\n",
        "\n",
        "bitcoin[\"month\"] = bitcoin.date.dt.month\n",
        "bitcoin[\"year\"] = bitcoin.date.dt.year\n",
        "bitcoin[\"weekday\"] = bitcoin.date.dt.weekday"
      ],
      "metadata": {
        "id": "IOkWx7VRZgkC"
      },
      "execution_count": null,
      "outputs": []
    },
    {
      "cell_type": "code",
      "source": [
        "# Add some sliding windows\n",
        "\n",
        "bitcoin[\"open_mean_7d\"] = bitcoin[\"open\"].shift(1).rolling(window=7).mean()\n",
        "bitcoin[\"max_volume_btc_30d\"] = bitcoin[\"Volume BTC\"].shift(1).rolling(window=30).max()\n",
        "bitcoin[\"min_close_14d\"] = bitcoin[\"close\"].shift(1).rolling(window=14).min()"
      ],
      "metadata": {
        "id": "E1JWwRpocQbL"
      },
      "execution_count": null,
      "outputs": []
    },
    {
      "cell_type": "code",
      "source": [
        "# Data preparation\n",
        "\n",
        "# Expanding categorical columns\n",
        "bitcoin = pd.get_dummies(bitcoin, columns=[\"year\", \"month\", \"weekday\"])\n",
        "\n",
        "# Remove extra columns\n",
        "bitcoin.drop(\"date\", axis=1, inplace=True)\n",
        "bitcoin.drop(\"symbol\", axis=1, inplace=True) # Useless \n",
        "\n",
        "# Fill NA\n",
        "bitcoin.fillna(method=\"backfill\", inplace=True)"
      ],
      "metadata": {
        "id": "c6KU-MOSe7tI"
      },
      "execution_count": null,
      "outputs": []
    }
  ]
}